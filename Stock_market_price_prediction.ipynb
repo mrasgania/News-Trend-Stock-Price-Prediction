{
  "nbformat": 4,
  "nbformat_minor": 0,
  "metadata": {
    "colab": {
      "provenance": []
    },
    "kernelspec": {
      "name": "python3",
      "display_name": "Python 3"
    },
    "language_info": {
      "name": "python"
    }
  },
  "cells": [
    {
      "cell_type": "markdown",
      "source": [
        "# **Connecting from Drive**"
      ],
      "metadata": {
        "id": "g9qzhyidhlxv"
      }
    },
    {
      "cell_type": "code",
      "source": [
        "from google.colab import drive\n",
        "drive.mount('/content/drive')"
      ],
      "metadata": {
        "colab": {
          "base_uri": "https://localhost:8080/"
        },
        "id": "pdE-TIjOlbTF",
        "outputId": "d98734c4-b4f2-42c0-8cb2-0f0362b4bb99"
      },
      "execution_count": 38,
      "outputs": [
        {
          "output_type": "stream",
          "name": "stdout",
          "text": [
            "Drive already mounted at /content/drive; to attempt to forcibly remount, call drive.mount(\"/content/drive\", force_remount=True).\n"
          ]
        }
      ]
    },
    {
      "cell_type": "markdown",
      "source": [
        "# **Importing Dataset**"
      ],
      "metadata": {
        "id": "XZh9X4g4huKU"
      }
    },
    {
      "cell_type": "code",
      "source": [
        "news=pd.read_csv(\"/content/drive/MyDrive/Stock-price-prediction-using-NLP-main/RedditNews.csv\")\n",
        "news.head()"
      ],
      "metadata": {
        "colab": {
          "base_uri": "https://localhost:8080/",
          "height": 206
        },
        "id": "3uKE50-fldVf",
        "outputId": "7b2fd2b5-080d-4f62-d1ba-079bbba3cbde"
      },
      "execution_count": 40,
      "outputs": [
        {
          "output_type": "execute_result",
          "data": {
            "text/plain": [
              "         Date                                               News\n",
              "0  2016-07-01  A 117-year-old woman in Mexico City finally re...\n",
              "1  2016-07-01   IMF chief backs Athens as permanent Olympic host\n",
              "2  2016-07-01  The president of France says if Brexit won, so...\n",
              "3  2016-07-01  British Man Who Must Give Police 24 Hours' Not...\n",
              "4  2016-07-01  100+ Nobel laureates urge Greenpeace to stop o..."
            ],
            "text/html": [
              "\n",
              "  <div id=\"df-47b91e4d-ad39-4380-b830-e468089e3705\">\n",
              "    <div class=\"colab-df-container\">\n",
              "      <div>\n",
              "<style scoped>\n",
              "    .dataframe tbody tr th:only-of-type {\n",
              "        vertical-align: middle;\n",
              "    }\n",
              "\n",
              "    .dataframe tbody tr th {\n",
              "        vertical-align: top;\n",
              "    }\n",
              "\n",
              "    .dataframe thead th {\n",
              "        text-align: right;\n",
              "    }\n",
              "</style>\n",
              "<table border=\"1\" class=\"dataframe\">\n",
              "  <thead>\n",
              "    <tr style=\"text-align: right;\">\n",
              "      <th></th>\n",
              "      <th>Date</th>\n",
              "      <th>News</th>\n",
              "    </tr>\n",
              "  </thead>\n",
              "  <tbody>\n",
              "    <tr>\n",
              "      <th>0</th>\n",
              "      <td>2016-07-01</td>\n",
              "      <td>A 117-year-old woman in Mexico City finally re...</td>\n",
              "    </tr>\n",
              "    <tr>\n",
              "      <th>1</th>\n",
              "      <td>2016-07-01</td>\n",
              "      <td>IMF chief backs Athens as permanent Olympic host</td>\n",
              "    </tr>\n",
              "    <tr>\n",
              "      <th>2</th>\n",
              "      <td>2016-07-01</td>\n",
              "      <td>The president of France says if Brexit won, so...</td>\n",
              "    </tr>\n",
              "    <tr>\n",
              "      <th>3</th>\n",
              "      <td>2016-07-01</td>\n",
              "      <td>British Man Who Must Give Police 24 Hours' Not...</td>\n",
              "    </tr>\n",
              "    <tr>\n",
              "      <th>4</th>\n",
              "      <td>2016-07-01</td>\n",
              "      <td>100+ Nobel laureates urge Greenpeace to stop o...</td>\n",
              "    </tr>\n",
              "  </tbody>\n",
              "</table>\n",
              "</div>\n",
              "      <button class=\"colab-df-convert\" onclick=\"convertToInteractive('df-47b91e4d-ad39-4380-b830-e468089e3705')\"\n",
              "              title=\"Convert this dataframe to an interactive table.\"\n",
              "              style=\"display:none;\">\n",
              "        \n",
              "  <svg xmlns=\"http://www.w3.org/2000/svg\" height=\"24px\"viewBox=\"0 0 24 24\"\n",
              "       width=\"24px\">\n",
              "    <path d=\"M0 0h24v24H0V0z\" fill=\"none\"/>\n",
              "    <path d=\"M18.56 5.44l.94 2.06.94-2.06 2.06-.94-2.06-.94-.94-2.06-.94 2.06-2.06.94zm-11 1L8.5 8.5l.94-2.06 2.06-.94-2.06-.94L8.5 2.5l-.94 2.06-2.06.94zm10 10l.94 2.06.94-2.06 2.06-.94-2.06-.94-.94-2.06-.94 2.06-2.06.94z\"/><path d=\"M17.41 7.96l-1.37-1.37c-.4-.4-.92-.59-1.43-.59-.52 0-1.04.2-1.43.59L10.3 9.45l-7.72 7.72c-.78.78-.78 2.05 0 2.83L4 21.41c.39.39.9.59 1.41.59.51 0 1.02-.2 1.41-.59l7.78-7.78 2.81-2.81c.8-.78.8-2.07 0-2.86zM5.41 20L4 18.59l7.72-7.72 1.47 1.35L5.41 20z\"/>\n",
              "  </svg>\n",
              "      </button>\n",
              "      \n",
              "  <style>\n",
              "    .colab-df-container {\n",
              "      display:flex;\n",
              "      flex-wrap:wrap;\n",
              "      gap: 12px;\n",
              "    }\n",
              "\n",
              "    .colab-df-convert {\n",
              "      background-color: #E8F0FE;\n",
              "      border: none;\n",
              "      border-radius: 50%;\n",
              "      cursor: pointer;\n",
              "      display: none;\n",
              "      fill: #1967D2;\n",
              "      height: 32px;\n",
              "      padding: 0 0 0 0;\n",
              "      width: 32px;\n",
              "    }\n",
              "\n",
              "    .colab-df-convert:hover {\n",
              "      background-color: #E2EBFA;\n",
              "      box-shadow: 0px 1px 2px rgba(60, 64, 67, 0.3), 0px 1px 3px 1px rgba(60, 64, 67, 0.15);\n",
              "      fill: #174EA6;\n",
              "    }\n",
              "\n",
              "    [theme=dark] .colab-df-convert {\n",
              "      background-color: #3B4455;\n",
              "      fill: #D2E3FC;\n",
              "    }\n",
              "\n",
              "    [theme=dark] .colab-df-convert:hover {\n",
              "      background-color: #434B5C;\n",
              "      box-shadow: 0px 1px 3px 1px rgba(0, 0, 0, 0.15);\n",
              "      filter: drop-shadow(0px 1px 2px rgba(0, 0, 0, 0.3));\n",
              "      fill: #FFFFFF;\n",
              "    }\n",
              "  </style>\n",
              "\n",
              "      <script>\n",
              "        const buttonEl =\n",
              "          document.querySelector('#df-47b91e4d-ad39-4380-b830-e468089e3705 button.colab-df-convert');\n",
              "        buttonEl.style.display =\n",
              "          google.colab.kernel.accessAllowed ? 'block' : 'none';\n",
              "\n",
              "        async function convertToInteractive(key) {\n",
              "          const element = document.querySelector('#df-47b91e4d-ad39-4380-b830-e468089e3705');\n",
              "          const dataTable =\n",
              "            await google.colab.kernel.invokeFunction('convertToInteractive',\n",
              "                                                     [key], {});\n",
              "          if (!dataTable) return;\n",
              "\n",
              "          const docLinkHtml = 'Like what you see? Visit the ' +\n",
              "            '<a target=\"_blank\" href=https://colab.research.google.com/notebooks/data_table.ipynb>data table notebook</a>'\n",
              "            + ' to learn more about interactive tables.';\n",
              "          element.innerHTML = '';\n",
              "          dataTable['output_type'] = 'display_data';\n",
              "          await google.colab.output.renderOutput(dataTable, element);\n",
              "          const docLink = document.createElement('div');\n",
              "          docLink.innerHTML = docLinkHtml;\n",
              "          element.appendChild(docLink);\n",
              "        }\n",
              "      </script>\n",
              "    </div>\n",
              "  </div>\n",
              "  "
            ]
          },
          "metadata": {},
          "execution_count": 40
        }
      ]
    },
    {
      "cell_type": "code",
      "source": [
        "stock=pd.read_csv(\"/content/drive/MyDrive/Stock-price-prediction-using-NLP-main/stock.csv\")\n",
        "stock.head()"
      ],
      "metadata": {
        "colab": {
          "base_uri": "https://localhost:8080/",
          "height": 206
        },
        "id": "ZcFSubsAluLL",
        "outputId": "9dbc378e-9b81-4781-8eca-d8b3974243cc"
      },
      "execution_count": 41,
      "outputs": [
        {
          "output_type": "execute_result",
          "data": {
            "text/plain": [
              "         Date         Open         High          Low        Close     Volume  \\\n",
              "0  07-01-2016  17924.24023  18002.38086  17916.91016  17949.36914   82160000   \n",
              "1   6/30/2016  17712.75977  17930.60938  17711.80078  17929.99023  133030000   \n",
              "2   6/29/2016  17456.01953  17704.50977  17456.01953  17694.67969  106380000   \n",
              "3   6/28/2016  17190.50977  17409.72070  17190.50977  17409.72070  112190000   \n",
              "4   6/27/2016  17355.21094  17355.21094  17063.08008  17140.24023  138740000   \n",
              "\n",
              "     Adj Close  \n",
              "0  17949.36914  \n",
              "1  17929.99023  \n",
              "2  17694.67969  \n",
              "3  17409.72070  \n",
              "4  17140.24023  "
            ],
            "text/html": [
              "\n",
              "  <div id=\"df-341ae003-e819-44d8-a9e1-1add581361b1\">\n",
              "    <div class=\"colab-df-container\">\n",
              "      <div>\n",
              "<style scoped>\n",
              "    .dataframe tbody tr th:only-of-type {\n",
              "        vertical-align: middle;\n",
              "    }\n",
              "\n",
              "    .dataframe tbody tr th {\n",
              "        vertical-align: top;\n",
              "    }\n",
              "\n",
              "    .dataframe thead th {\n",
              "        text-align: right;\n",
              "    }\n",
              "</style>\n",
              "<table border=\"1\" class=\"dataframe\">\n",
              "  <thead>\n",
              "    <tr style=\"text-align: right;\">\n",
              "      <th></th>\n",
              "      <th>Date</th>\n",
              "      <th>Open</th>\n",
              "      <th>High</th>\n",
              "      <th>Low</th>\n",
              "      <th>Close</th>\n",
              "      <th>Volume</th>\n",
              "      <th>Adj Close</th>\n",
              "    </tr>\n",
              "  </thead>\n",
              "  <tbody>\n",
              "    <tr>\n",
              "      <th>0</th>\n",
              "      <td>07-01-2016</td>\n",
              "      <td>17924.24023</td>\n",
              "      <td>18002.38086</td>\n",
              "      <td>17916.91016</td>\n",
              "      <td>17949.36914</td>\n",
              "      <td>82160000</td>\n",
              "      <td>17949.36914</td>\n",
              "    </tr>\n",
              "    <tr>\n",
              "      <th>1</th>\n",
              "      <td>6/30/2016</td>\n",
              "      <td>17712.75977</td>\n",
              "      <td>17930.60938</td>\n",
              "      <td>17711.80078</td>\n",
              "      <td>17929.99023</td>\n",
              "      <td>133030000</td>\n",
              "      <td>17929.99023</td>\n",
              "    </tr>\n",
              "    <tr>\n",
              "      <th>2</th>\n",
              "      <td>6/29/2016</td>\n",
              "      <td>17456.01953</td>\n",
              "      <td>17704.50977</td>\n",
              "      <td>17456.01953</td>\n",
              "      <td>17694.67969</td>\n",
              "      <td>106380000</td>\n",
              "      <td>17694.67969</td>\n",
              "    </tr>\n",
              "    <tr>\n",
              "      <th>3</th>\n",
              "      <td>6/28/2016</td>\n",
              "      <td>17190.50977</td>\n",
              "      <td>17409.72070</td>\n",
              "      <td>17190.50977</td>\n",
              "      <td>17409.72070</td>\n",
              "      <td>112190000</td>\n",
              "      <td>17409.72070</td>\n",
              "    </tr>\n",
              "    <tr>\n",
              "      <th>4</th>\n",
              "      <td>6/27/2016</td>\n",
              "      <td>17355.21094</td>\n",
              "      <td>17355.21094</td>\n",
              "      <td>17063.08008</td>\n",
              "      <td>17140.24023</td>\n",
              "      <td>138740000</td>\n",
              "      <td>17140.24023</td>\n",
              "    </tr>\n",
              "  </tbody>\n",
              "</table>\n",
              "</div>\n",
              "      <button class=\"colab-df-convert\" onclick=\"convertToInteractive('df-341ae003-e819-44d8-a9e1-1add581361b1')\"\n",
              "              title=\"Convert this dataframe to an interactive table.\"\n",
              "              style=\"display:none;\">\n",
              "        \n",
              "  <svg xmlns=\"http://www.w3.org/2000/svg\" height=\"24px\"viewBox=\"0 0 24 24\"\n",
              "       width=\"24px\">\n",
              "    <path d=\"M0 0h24v24H0V0z\" fill=\"none\"/>\n",
              "    <path d=\"M18.56 5.44l.94 2.06.94-2.06 2.06-.94-2.06-.94-.94-2.06-.94 2.06-2.06.94zm-11 1L8.5 8.5l.94-2.06 2.06-.94-2.06-.94L8.5 2.5l-.94 2.06-2.06.94zm10 10l.94 2.06.94-2.06 2.06-.94-2.06-.94-.94-2.06-.94 2.06-2.06.94z\"/><path d=\"M17.41 7.96l-1.37-1.37c-.4-.4-.92-.59-1.43-.59-.52 0-1.04.2-1.43.59L10.3 9.45l-7.72 7.72c-.78.78-.78 2.05 0 2.83L4 21.41c.39.39.9.59 1.41.59.51 0 1.02-.2 1.41-.59l7.78-7.78 2.81-2.81c.8-.78.8-2.07 0-2.86zM5.41 20L4 18.59l7.72-7.72 1.47 1.35L5.41 20z\"/>\n",
              "  </svg>\n",
              "      </button>\n",
              "      \n",
              "  <style>\n",
              "    .colab-df-container {\n",
              "      display:flex;\n",
              "      flex-wrap:wrap;\n",
              "      gap: 12px;\n",
              "    }\n",
              "\n",
              "    .colab-df-convert {\n",
              "      background-color: #E8F0FE;\n",
              "      border: none;\n",
              "      border-radius: 50%;\n",
              "      cursor: pointer;\n",
              "      display: none;\n",
              "      fill: #1967D2;\n",
              "      height: 32px;\n",
              "      padding: 0 0 0 0;\n",
              "      width: 32px;\n",
              "    }\n",
              "\n",
              "    .colab-df-convert:hover {\n",
              "      background-color: #E2EBFA;\n",
              "      box-shadow: 0px 1px 2px rgba(60, 64, 67, 0.3), 0px 1px 3px 1px rgba(60, 64, 67, 0.15);\n",
              "      fill: #174EA6;\n",
              "    }\n",
              "\n",
              "    [theme=dark] .colab-df-convert {\n",
              "      background-color: #3B4455;\n",
              "      fill: #D2E3FC;\n",
              "    }\n",
              "\n",
              "    [theme=dark] .colab-df-convert:hover {\n",
              "      background-color: #434B5C;\n",
              "      box-shadow: 0px 1px 3px 1px rgba(0, 0, 0, 0.15);\n",
              "      filter: drop-shadow(0px 1px 2px rgba(0, 0, 0, 0.3));\n",
              "      fill: #FFFFFF;\n",
              "    }\n",
              "  </style>\n",
              "\n",
              "      <script>\n",
              "        const buttonEl =\n",
              "          document.querySelector('#df-341ae003-e819-44d8-a9e1-1add581361b1 button.colab-df-convert');\n",
              "        buttonEl.style.display =\n",
              "          google.colab.kernel.accessAllowed ? 'block' : 'none';\n",
              "\n",
              "        async function convertToInteractive(key) {\n",
              "          const element = document.querySelector('#df-341ae003-e819-44d8-a9e1-1add581361b1');\n",
              "          const dataTable =\n",
              "            await google.colab.kernel.invokeFunction('convertToInteractive',\n",
              "                                                     [key], {});\n",
              "          if (!dataTable) return;\n",
              "\n",
              "          const docLinkHtml = 'Like what you see? Visit the ' +\n",
              "            '<a target=\"_blank\" href=https://colab.research.google.com/notebooks/data_table.ipynb>data table notebook</a>'\n",
              "            + ' to learn more about interactive tables.';\n",
              "          element.innerHTML = '';\n",
              "          dataTable['output_type'] = 'display_data';\n",
              "          await google.colab.output.renderOutput(dataTable, element);\n",
              "          const docLink = document.createElement('div');\n",
              "          docLink.innerHTML = docLinkHtml;\n",
              "          element.appendChild(docLink);\n",
              "        }\n",
              "      </script>\n",
              "    </div>\n",
              "  </div>\n",
              "  "
            ]
          },
          "metadata": {},
          "execution_count": 41
        }
      ]
    },
    {
      "cell_type": "code",
      "source": [
        "# Changing to Data column\n",
        "\n",
        "stock['Date'] = pd.to_datetime(stock['Date'])\n",
        "news['Date'] = pd.to_datetime(news['Date'])"
      ],
      "metadata": {
        "id": "AMsEt1O0nPwW"
      },
      "execution_count": 42,
      "outputs": []
    },
    {
      "cell_type": "code",
      "source": [
        "min_val = news['Date'].min()\n",
        "max_val = news['Date'].max()\n",
        "print(f\"Minimum value of column 'A': {min_val}\")\n",
        "print(f\"Maximum value of column 'A': {max_val}\")"
      ],
      "metadata": {
        "colab": {
          "base_uri": "https://localhost:8080/"
        },
        "id": "QIqAHkGzl4_A",
        "outputId": "85eb4def-bcea-4550-c3eb-21e2883e4315"
      },
      "execution_count": 43,
      "outputs": [
        {
          "output_type": "stream",
          "name": "stdout",
          "text": [
            "Minimum value of column 'A': 2008-06-08 00:00:00\n",
            "Maximum value of column 'A': 2016-07-01 00:00:00\n"
          ]
        }
      ]
    },
    {
      "cell_type": "code",
      "source": [
        "min_val = stock['Date'].min()\n",
        "max_val = stock['Date'].max()\n",
        "\n",
        "print(f\"Minimum value of column 'A': {min_val}\")\n",
        "print(f\"Maximum value of column 'A': {max_val}\")"
      ],
      "metadata": {
        "colab": {
          "base_uri": "https://localhost:8080/"
        },
        "id": "zyoXGn-smVi_",
        "outputId": "74c4f2b5-b5b7-4537-c639-45b6797148b3"
      },
      "execution_count": 44,
      "outputs": [
        {
          "output_type": "stream",
          "name": "stdout",
          "text": [
            "Minimum value of column 'A': 2008-08-08 00:00:00\n",
            "Maximum value of column 'A': 2016-07-01 00:00:00\n"
          ]
        }
      ]
    },
    {
      "cell_type": "code",
      "source": [
        "merged_df = pd.merge(stock, news, on='Date')\n",
        "merged_df = merged_df.sort_values(by='Date')\n",
        "merged_df = merged_df.reset_index(drop=True)\n",
        "merged_df\n"
      ],
      "metadata": {
        "colab": {
          "base_uri": "https://localhost:8080/",
          "height": 423
        },
        "id": "nwphU55QmZam",
        "outputId": "a345ea14-d8f4-4853-abcf-97679aa24e86"
      },
      "execution_count": 45,
      "outputs": [
        {
          "output_type": "execute_result",
          "data": {
            "text/plain": [
              "            Date         Open         High          Low        Close  \\\n",
              "0     2008-08-08  11432.08984  11759.95996  11388.04004  11734.32031   \n",
              "1     2008-08-08  11432.08984  11759.95996  11388.04004  11734.32031   \n",
              "2     2008-08-08  11432.08984  11759.95996  11388.04004  11734.32031   \n",
              "3     2008-08-08  11432.08984  11759.95996  11388.04004  11734.32031   \n",
              "4     2008-08-08  11432.08984  11759.95996  11388.04004  11734.32031   \n",
              "...          ...          ...          ...          ...          ...   \n",
              "49713 2016-07-01  17924.24023  18002.38086  17916.91016  17949.36914   \n",
              "49714 2016-07-01  17924.24023  18002.38086  17916.91016  17949.36914   \n",
              "49715 2016-07-01  17924.24023  18002.38086  17916.91016  17949.36914   \n",
              "49716 2016-07-01  17924.24023  18002.38086  17916.91016  17949.36914   \n",
              "49717 2016-07-01  17924.24023  18002.38086  17916.91016  17949.36914   \n",
              "\n",
              "          Volume    Adj Close  \\\n",
              "0      212830000  11734.32031   \n",
              "1      212830000  11734.32031   \n",
              "2      212830000  11734.32031   \n",
              "3      212830000  11734.32031   \n",
              "4      212830000  11734.32031   \n",
              "...          ...          ...   \n",
              "49713   82160000  17949.36914   \n",
              "49714   82160000  17949.36914   \n",
              "49715   82160000  17949.36914   \n",
              "49716   82160000  17949.36914   \n",
              "49717   82160000  17949.36914   \n",
              "\n",
              "                                                    News  \n",
              "0               b\"No Help for Mexico's Kidnapping Surge\"  \n",
              "1      b\"Georgia 'downs two Russian warplanes' as cou...  \n",
              "2                b'BREAKING: Musharraf to be impeached.'  \n",
              "3      b'Russia Today: Columns of troops roll into So...  \n",
              "4      b'Russian tanks are moving towards the capital...  \n",
              "...                                                  ...  \n",
              "49713  Venezuela, where anger over food shortages is ...  \n",
              "49714  A Hindu temple worker has been killed by three...  \n",
              "49715  Ozone layer hole seems to be healing - US &amp...  \n",
              "49716  Taiwanese warship accidentally fires missile t...  \n",
              "49717  A 117-year-old woman in Mexico City finally re...  \n",
              "\n",
              "[49718 rows x 8 columns]"
            ],
            "text/html": [
              "\n",
              "  <div id=\"df-ad652230-dc68-43c4-b920-336d1959f324\">\n",
              "    <div class=\"colab-df-container\">\n",
              "      <div>\n",
              "<style scoped>\n",
              "    .dataframe tbody tr th:only-of-type {\n",
              "        vertical-align: middle;\n",
              "    }\n",
              "\n",
              "    .dataframe tbody tr th {\n",
              "        vertical-align: top;\n",
              "    }\n",
              "\n",
              "    .dataframe thead th {\n",
              "        text-align: right;\n",
              "    }\n",
              "</style>\n",
              "<table border=\"1\" class=\"dataframe\">\n",
              "  <thead>\n",
              "    <tr style=\"text-align: right;\">\n",
              "      <th></th>\n",
              "      <th>Date</th>\n",
              "      <th>Open</th>\n",
              "      <th>High</th>\n",
              "      <th>Low</th>\n",
              "      <th>Close</th>\n",
              "      <th>Volume</th>\n",
              "      <th>Adj Close</th>\n",
              "      <th>News</th>\n",
              "    </tr>\n",
              "  </thead>\n",
              "  <tbody>\n",
              "    <tr>\n",
              "      <th>0</th>\n",
              "      <td>2008-08-08</td>\n",
              "      <td>11432.08984</td>\n",
              "      <td>11759.95996</td>\n",
              "      <td>11388.04004</td>\n",
              "      <td>11734.32031</td>\n",
              "      <td>212830000</td>\n",
              "      <td>11734.32031</td>\n",
              "      <td>b\"No Help for Mexico's Kidnapping Surge\"</td>\n",
              "    </tr>\n",
              "    <tr>\n",
              "      <th>1</th>\n",
              "      <td>2008-08-08</td>\n",
              "      <td>11432.08984</td>\n",
              "      <td>11759.95996</td>\n",
              "      <td>11388.04004</td>\n",
              "      <td>11734.32031</td>\n",
              "      <td>212830000</td>\n",
              "      <td>11734.32031</td>\n",
              "      <td>b\"Georgia 'downs two Russian warplanes' as cou...</td>\n",
              "    </tr>\n",
              "    <tr>\n",
              "      <th>2</th>\n",
              "      <td>2008-08-08</td>\n",
              "      <td>11432.08984</td>\n",
              "      <td>11759.95996</td>\n",
              "      <td>11388.04004</td>\n",
              "      <td>11734.32031</td>\n",
              "      <td>212830000</td>\n",
              "      <td>11734.32031</td>\n",
              "      <td>b'BREAKING: Musharraf to be impeached.'</td>\n",
              "    </tr>\n",
              "    <tr>\n",
              "      <th>3</th>\n",
              "      <td>2008-08-08</td>\n",
              "      <td>11432.08984</td>\n",
              "      <td>11759.95996</td>\n",
              "      <td>11388.04004</td>\n",
              "      <td>11734.32031</td>\n",
              "      <td>212830000</td>\n",
              "      <td>11734.32031</td>\n",
              "      <td>b'Russia Today: Columns of troops roll into So...</td>\n",
              "    </tr>\n",
              "    <tr>\n",
              "      <th>4</th>\n",
              "      <td>2008-08-08</td>\n",
              "      <td>11432.08984</td>\n",
              "      <td>11759.95996</td>\n",
              "      <td>11388.04004</td>\n",
              "      <td>11734.32031</td>\n",
              "      <td>212830000</td>\n",
              "      <td>11734.32031</td>\n",
              "      <td>b'Russian tanks are moving towards the capital...</td>\n",
              "    </tr>\n",
              "    <tr>\n",
              "      <th>...</th>\n",
              "      <td>...</td>\n",
              "      <td>...</td>\n",
              "      <td>...</td>\n",
              "      <td>...</td>\n",
              "      <td>...</td>\n",
              "      <td>...</td>\n",
              "      <td>...</td>\n",
              "      <td>...</td>\n",
              "    </tr>\n",
              "    <tr>\n",
              "      <th>49713</th>\n",
              "      <td>2016-07-01</td>\n",
              "      <td>17924.24023</td>\n",
              "      <td>18002.38086</td>\n",
              "      <td>17916.91016</td>\n",
              "      <td>17949.36914</td>\n",
              "      <td>82160000</td>\n",
              "      <td>17949.36914</td>\n",
              "      <td>Venezuela, where anger over food shortages is ...</td>\n",
              "    </tr>\n",
              "    <tr>\n",
              "      <th>49714</th>\n",
              "      <td>2016-07-01</td>\n",
              "      <td>17924.24023</td>\n",
              "      <td>18002.38086</td>\n",
              "      <td>17916.91016</td>\n",
              "      <td>17949.36914</td>\n",
              "      <td>82160000</td>\n",
              "      <td>17949.36914</td>\n",
              "      <td>A Hindu temple worker has been killed by three...</td>\n",
              "    </tr>\n",
              "    <tr>\n",
              "      <th>49715</th>\n",
              "      <td>2016-07-01</td>\n",
              "      <td>17924.24023</td>\n",
              "      <td>18002.38086</td>\n",
              "      <td>17916.91016</td>\n",
              "      <td>17949.36914</td>\n",
              "      <td>82160000</td>\n",
              "      <td>17949.36914</td>\n",
              "      <td>Ozone layer hole seems to be healing - US &amp;amp...</td>\n",
              "    </tr>\n",
              "    <tr>\n",
              "      <th>49716</th>\n",
              "      <td>2016-07-01</td>\n",
              "      <td>17924.24023</td>\n",
              "      <td>18002.38086</td>\n",
              "      <td>17916.91016</td>\n",
              "      <td>17949.36914</td>\n",
              "      <td>82160000</td>\n",
              "      <td>17949.36914</td>\n",
              "      <td>Taiwanese warship accidentally fires missile t...</td>\n",
              "    </tr>\n",
              "    <tr>\n",
              "      <th>49717</th>\n",
              "      <td>2016-07-01</td>\n",
              "      <td>17924.24023</td>\n",
              "      <td>18002.38086</td>\n",
              "      <td>17916.91016</td>\n",
              "      <td>17949.36914</td>\n",
              "      <td>82160000</td>\n",
              "      <td>17949.36914</td>\n",
              "      <td>A 117-year-old woman in Mexico City finally re...</td>\n",
              "    </tr>\n",
              "  </tbody>\n",
              "</table>\n",
              "<p>49718 rows × 8 columns</p>\n",
              "</div>\n",
              "      <button class=\"colab-df-convert\" onclick=\"convertToInteractive('df-ad652230-dc68-43c4-b920-336d1959f324')\"\n",
              "              title=\"Convert this dataframe to an interactive table.\"\n",
              "              style=\"display:none;\">\n",
              "        \n",
              "  <svg xmlns=\"http://www.w3.org/2000/svg\" height=\"24px\"viewBox=\"0 0 24 24\"\n",
              "       width=\"24px\">\n",
              "    <path d=\"M0 0h24v24H0V0z\" fill=\"none\"/>\n",
              "    <path d=\"M18.56 5.44l.94 2.06.94-2.06 2.06-.94-2.06-.94-.94-2.06-.94 2.06-2.06.94zm-11 1L8.5 8.5l.94-2.06 2.06-.94-2.06-.94L8.5 2.5l-.94 2.06-2.06.94zm10 10l.94 2.06.94-2.06 2.06-.94-2.06-.94-.94-2.06-.94 2.06-2.06.94z\"/><path d=\"M17.41 7.96l-1.37-1.37c-.4-.4-.92-.59-1.43-.59-.52 0-1.04.2-1.43.59L10.3 9.45l-7.72 7.72c-.78.78-.78 2.05 0 2.83L4 21.41c.39.39.9.59 1.41.59.51 0 1.02-.2 1.41-.59l7.78-7.78 2.81-2.81c.8-.78.8-2.07 0-2.86zM5.41 20L4 18.59l7.72-7.72 1.47 1.35L5.41 20z\"/>\n",
              "  </svg>\n",
              "      </button>\n",
              "      \n",
              "  <style>\n",
              "    .colab-df-container {\n",
              "      display:flex;\n",
              "      flex-wrap:wrap;\n",
              "      gap: 12px;\n",
              "    }\n",
              "\n",
              "    .colab-df-convert {\n",
              "      background-color: #E8F0FE;\n",
              "      border: none;\n",
              "      border-radius: 50%;\n",
              "      cursor: pointer;\n",
              "      display: none;\n",
              "      fill: #1967D2;\n",
              "      height: 32px;\n",
              "      padding: 0 0 0 0;\n",
              "      width: 32px;\n",
              "    }\n",
              "\n",
              "    .colab-df-convert:hover {\n",
              "      background-color: #E2EBFA;\n",
              "      box-shadow: 0px 1px 2px rgba(60, 64, 67, 0.3), 0px 1px 3px 1px rgba(60, 64, 67, 0.15);\n",
              "      fill: #174EA6;\n",
              "    }\n",
              "\n",
              "    [theme=dark] .colab-df-convert {\n",
              "      background-color: #3B4455;\n",
              "      fill: #D2E3FC;\n",
              "    }\n",
              "\n",
              "    [theme=dark] .colab-df-convert:hover {\n",
              "      background-color: #434B5C;\n",
              "      box-shadow: 0px 1px 3px 1px rgba(0, 0, 0, 0.15);\n",
              "      filter: drop-shadow(0px 1px 2px rgba(0, 0, 0, 0.3));\n",
              "      fill: #FFFFFF;\n",
              "    }\n",
              "  </style>\n",
              "\n",
              "      <script>\n",
              "        const buttonEl =\n",
              "          document.querySelector('#df-ad652230-dc68-43c4-b920-336d1959f324 button.colab-df-convert');\n",
              "        buttonEl.style.display =\n",
              "          google.colab.kernel.accessAllowed ? 'block' : 'none';\n",
              "\n",
              "        async function convertToInteractive(key) {\n",
              "          const element = document.querySelector('#df-ad652230-dc68-43c4-b920-336d1959f324');\n",
              "          const dataTable =\n",
              "            await google.colab.kernel.invokeFunction('convertToInteractive',\n",
              "                                                     [key], {});\n",
              "          if (!dataTable) return;\n",
              "\n",
              "          const docLinkHtml = 'Like what you see? Visit the ' +\n",
              "            '<a target=\"_blank\" href=https://colab.research.google.com/notebooks/data_table.ipynb>data table notebook</a>'\n",
              "            + ' to learn more about interactive tables.';\n",
              "          element.innerHTML = '';\n",
              "          dataTable['output_type'] = 'display_data';\n",
              "          await google.colab.output.renderOutput(dataTable, element);\n",
              "          const docLink = document.createElement('div');\n",
              "          docLink.innerHTML = docLinkHtml;\n",
              "          element.appendChild(docLink);\n",
              "        }\n",
              "      </script>\n",
              "    </div>\n",
              "  </div>\n",
              "  "
            ]
          },
          "metadata": {},
          "execution_count": 45
        }
      ]
    },
    {
      "cell_type": "markdown",
      "source": [
        "**# When cleaning text data, some common issues that you may want to address include:**\n",
        "\n",
        "1. Removing unwanted characters such as special characters or punctuation marks.\n",
        "\n",
        "2. Converting all text to lowercase or uppercase.\n",
        "\n",
        "3. Removing stop words such as \"the\", \"and\", \"a\", etc.\n",
        "4. Removing numbers or digits.\n",
        "\n",
        "5. Correcting spelling mistakes or abbreviations.\n",
        "\n",
        "6. Removing URLs or email addresses.\n",
        "\n",
        "7. Removing HTML tags.\n",
        "\n",
        "8. Removing leading or trailing whitespaces."
      ],
      "metadata": {
        "id": "Bdv8aaCqsBZs"
      }
    },
    {
      "cell_type": "markdown",
      "source": [
        "# **When creating a sentiment model, there are some processing steps that you may want to avoid or be cautious about, as they can potentially affect the accuracy and performance of your model.**\n",
        "\n",
        "Here are a few processing steps you may want to avoid:\n",
        "\n",
        "1. Stemming or lemmatization: While stemming or lemmatization can reduce the number of unique words in your text data, it can also change the meaning of some words, which can affect the accuracy of your sentiment model. For example, \"happy\" and \"happier\" would both be stemmed to \"happi\", which may not be ideal for sentiment analysis.\n",
        "\n",
        "2. Removing negation words: Negation words like \"not\" or \"never\" can significantly change the sentiment of a sentence. Therefore, it may be better to keep them in your text data rather than removing them. However, you may want to take into account their effect on sentiment in your model by, for example, reversing the polarity of the sentiment of the words that follow them.\n",
        "\n",
        "3. Removing stopwords: Stopwords are common words like \"the\", \"and\", \"a\", etc., which are often removed to reduce the dimensionality of the text data. However, some stopwords can carry sentiment, such as \"not\" or \"very\". Therefore, removing all stopwords may not be ideal for sentiment analysis.\n",
        "\n",
        "4. Removing rare words: Removing rare words can reduce the complexity of your model, but it can also remove valuable sentiment-related words that may not occur frequently in your text data.\n",
        "\n",
        "5. Over-sampling or under-sampling: Over-sampling or under-sampling can help balance the class distribution of your data, but it can also introduce bias into your model. Therefore, it's important to be cautious when using these techniques and to evaluate their impact on your model's performance.\n",
        "\n",
        "6. Removing context: Sentiment analysis relies heavily on context, so removing too much context from your text data can negatively impact the accuracy of your model. Therefore, it's important to consider the context of each text sample when analyzing sentiment."
      ],
      "metadata": {
        "id": "DlkYvCDjsCuw"
      }
    },
    {
      "cell_type": "code",
      "source": [
        "import re\n",
        "import string\n",
        "import nltk\n",
        "nltk.download('stopwords')\n",
        "from nltk.corpus import stopwords\n",
        "stop_words = set(stopwords.words('english'))"
      ],
      "metadata": {
        "colab": {
          "base_uri": "https://localhost:8080/"
        },
        "id": "xAuN0w2Ym7LR",
        "outputId": "7db67e6a-b2b5-49ca-e739-d158d9d18891"
      },
      "execution_count": 46,
      "outputs": [
        {
          "output_type": "stream",
          "name": "stderr",
          "text": [
            "[nltk_data] Downloading package stopwords to /root/nltk_data...\n",
            "[nltk_data]   Package stopwords is already up-to-date!\n"
          ]
        }
      ]
    },
    {
      "cell_type": "code",
      "source": [
        "stopwords_to_not_remove = ['not', 'no', \"don't\", \"can't\", \"won't\", \"shouldn't\", \"wouldn't\", \"mustn't\", \"haven't\", \"hasn't\", \"hadn't\", \"isn't\", \"weren't\", \"wasn't\", \"aren't\", \"can\", \"will\", \"should\", \"would\", \"could\", \"may\", \"might\", \"very\", \"too\", \"so\"]\n"
      ],
      "metadata": {
        "id": "UFTB6CYAnubs"
      },
      "execution_count": 47,
      "outputs": []
    },
    {
      "cell_type": "markdown",
      "source": [
        "**Removing stop words**"
      ],
      "metadata": {
        "id": "FzFv6xOgiS6v"
      }
    },
    {
      "cell_type": "code",
      "source": [
        "merged_df['News'] = merged_df['News'].apply(lambda x: ' '.join([word for word in x.split() if (word not in stop_words) or (word in stopwords_to_not_remove) ]))"
      ],
      "metadata": {
        "id": "vWOekpgRpPOm"
      },
      "execution_count": 48,
      "outputs": []
    },
    {
      "cell_type": "markdown",
      "source": [
        "# **Special Cases of Punctuation and Symbols**\n",
        "\n",
        "When performing sentiment analysis, it is generally recommended to keep certain punctuation marks and special characters that may convey important information about the sentiment of a sentence or text. Here are some common punctuation marks and special characters that you may want to keep:\n",
        "\n",
        "1. Exclamation points (!): These are often used to express strong emotions such as excitement, happiness, or anger.\n",
        "\n",
        "2. Question marks (?): These indicate a question, which may convey uncertainty or confusion.\n",
        "\n",
        "3. Emoticons and emojis: These can provide additional context to the text, especially in social media or informal communication.\n",
        "\n",
        "4. Capitalization: Words that are capitalized can indicate emphasis or importance.\n",
        "\n",
        "5. Ellipses (...): These can indicate a trailing off or hesitation, which may convey uncertainty or a lack of confidence.\n",
        "\n",
        "However, it is important to note that the specific set of punctuation marks and special characters to keep or remove may depend on the specific domain or context of your sentiment analysis task. For example, in a formal setting such as legal or academic writing, the use of exclamation points may be rare and the use of ellipses may be more common, and vice versa in a more informal setting such as social media."
      ],
      "metadata": {
        "id": "QmazG0I_tffY"
      }
    },
    {
      "cell_type": "markdown",
      "source": [
        "Punctuation"
      ],
      "metadata": {
        "id": "cdZPK3cMi1Pz"
      }
    },
    {
      "cell_type": "code",
      "source": [
        "punct_to_keep = \"!?...\"\n",
        "\n",
        "merged_df['News'] = merged_df['News'].apply(lambda x: \"\".join([char if (char.isalnum() or char in punct_to_keep or char.isspace()) else \"\" for char in x]))"
      ],
      "metadata": {
        "id": "glr5vhO1rbQn"
      },
      "execution_count": 50,
      "outputs": []
    },
    {
      "cell_type": "markdown",
      "source": [
        "Removing the Character \"b\" occuring at the start of most of the sentences"
      ],
      "metadata": {
        "id": "UHztUQa-i4h3"
      }
    },
    {
      "cell_type": "code",
      "source": [
        "# remove all rows where the text column starts with 'b'\n",
        "merged_df = merged_df[~merged_df['News'].str.startswith('b')]"
      ],
      "metadata": {
        "colab": {
          "base_uri": "https://localhost:8080/",
          "height": 423
        },
        "id": "Tq1-kTT-tkbk",
        "outputId": "e30219b8-6d35-4a3b-d044-e3466fd8d40e"
      },
      "execution_count": 51,
      "outputs": [
        {
          "output_type": "execute_result",
          "data": {
            "text/plain": [
              "            Date          Open          High           Low         Close  \\\n",
              "11920 2010-07-01   9773.269531   9795.480469   9621.889648   9732.530273   \n",
              "11921 2010-07-01   9773.269531   9795.480469   9621.889648   9732.530273   \n",
              "11922 2010-07-01   9773.269531   9795.480469   9621.889648   9732.530273   \n",
              "11923 2010-07-01   9773.269531   9795.480469   9621.889648   9732.530273   \n",
              "11924 2010-07-01   9773.269531   9795.480469   9621.889648   9732.530273   \n",
              "...          ...           ...           ...           ...           ...   \n",
              "49713 2016-07-01  17924.240230  18002.380860  17916.910160  17949.369140   \n",
              "49714 2016-07-01  17924.240230  18002.380860  17916.910160  17949.369140   \n",
              "49715 2016-07-01  17924.240230  18002.380860  17916.910160  17949.369140   \n",
              "49716 2016-07-01  17924.240230  18002.380860  17916.910160  17949.369140   \n",
              "49717 2016-07-01  17924.240230  18002.380860  17916.910160  17949.369140   \n",
              "\n",
              "          Volume     Adj Close  \\\n",
              "11920  262820000   9732.530273   \n",
              "11921  262820000   9732.530273   \n",
              "11922  262820000   9732.530273   \n",
              "11923  262820000   9732.530273   \n",
              "11924  262820000   9732.530273   \n",
              "...          ...           ...   \n",
              "49713   82160000  17949.369140   \n",
              "49714   82160000  17949.369140   \n",
              "49715   82160000  17949.369140   \n",
              "49716   82160000  17949.369140   \n",
              "49717   82160000  17949.369140   \n",
              "\n",
              "                                                    News  \n",
              "11920  Palestinian leader gives interview Israel Isra...  \n",
              "11921  UK government launches Your Freedom  seeks pub...  \n",
              "11922             Blair receive US peace medal not Onion  \n",
              "11923  May I introduce Germanys new first lady! And y...  \n",
              "11924  UK Iraq Whistleblower Was Too Weak To Have Kil...  \n",
              "...                                                  ...  \n",
              "49713  Venezuela anger food shortages still mounting ...  \n",
              "49714  A Hindu temple worker killed three men motorcy...  \n",
              "49715  Ozone layer hole seems healing  US amp UK team...  \n",
              "49716  Taiwanese warship accidentally fires missile t...  \n",
              "49717  A 117yearold woman Mexico City finally receive...  \n",
              "\n",
              "[37797 rows x 8 columns]"
            ],
            "text/html": [
              "\n",
              "  <div id=\"df-20f2d41a-afd0-4f01-a399-d0e28b5645fa\">\n",
              "    <div class=\"colab-df-container\">\n",
              "      <div>\n",
              "<style scoped>\n",
              "    .dataframe tbody tr th:only-of-type {\n",
              "        vertical-align: middle;\n",
              "    }\n",
              "\n",
              "    .dataframe tbody tr th {\n",
              "        vertical-align: top;\n",
              "    }\n",
              "\n",
              "    .dataframe thead th {\n",
              "        text-align: right;\n",
              "    }\n",
              "</style>\n",
              "<table border=\"1\" class=\"dataframe\">\n",
              "  <thead>\n",
              "    <tr style=\"text-align: right;\">\n",
              "      <th></th>\n",
              "      <th>Date</th>\n",
              "      <th>Open</th>\n",
              "      <th>High</th>\n",
              "      <th>Low</th>\n",
              "      <th>Close</th>\n",
              "      <th>Volume</th>\n",
              "      <th>Adj Close</th>\n",
              "      <th>News</th>\n",
              "    </tr>\n",
              "  </thead>\n",
              "  <tbody>\n",
              "    <tr>\n",
              "      <th>11920</th>\n",
              "      <td>2010-07-01</td>\n",
              "      <td>9773.269531</td>\n",
              "      <td>9795.480469</td>\n",
              "      <td>9621.889648</td>\n",
              "      <td>9732.530273</td>\n",
              "      <td>262820000</td>\n",
              "      <td>9732.530273</td>\n",
              "      <td>Palestinian leader gives interview Israel Isra...</td>\n",
              "    </tr>\n",
              "    <tr>\n",
              "      <th>11921</th>\n",
              "      <td>2010-07-01</td>\n",
              "      <td>9773.269531</td>\n",
              "      <td>9795.480469</td>\n",
              "      <td>9621.889648</td>\n",
              "      <td>9732.530273</td>\n",
              "      <td>262820000</td>\n",
              "      <td>9732.530273</td>\n",
              "      <td>UK government launches Your Freedom  seeks pub...</td>\n",
              "    </tr>\n",
              "    <tr>\n",
              "      <th>11922</th>\n",
              "      <td>2010-07-01</td>\n",
              "      <td>9773.269531</td>\n",
              "      <td>9795.480469</td>\n",
              "      <td>9621.889648</td>\n",
              "      <td>9732.530273</td>\n",
              "      <td>262820000</td>\n",
              "      <td>9732.530273</td>\n",
              "      <td>Blair receive US peace medal not Onion</td>\n",
              "    </tr>\n",
              "    <tr>\n",
              "      <th>11923</th>\n",
              "      <td>2010-07-01</td>\n",
              "      <td>9773.269531</td>\n",
              "      <td>9795.480469</td>\n",
              "      <td>9621.889648</td>\n",
              "      <td>9732.530273</td>\n",
              "      <td>262820000</td>\n",
              "      <td>9732.530273</td>\n",
              "      <td>May I introduce Germanys new first lady! And y...</td>\n",
              "    </tr>\n",
              "    <tr>\n",
              "      <th>11924</th>\n",
              "      <td>2010-07-01</td>\n",
              "      <td>9773.269531</td>\n",
              "      <td>9795.480469</td>\n",
              "      <td>9621.889648</td>\n",
              "      <td>9732.530273</td>\n",
              "      <td>262820000</td>\n",
              "      <td>9732.530273</td>\n",
              "      <td>UK Iraq Whistleblower Was Too Weak To Have Kil...</td>\n",
              "    </tr>\n",
              "    <tr>\n",
              "      <th>...</th>\n",
              "      <td>...</td>\n",
              "      <td>...</td>\n",
              "      <td>...</td>\n",
              "      <td>...</td>\n",
              "      <td>...</td>\n",
              "      <td>...</td>\n",
              "      <td>...</td>\n",
              "      <td>...</td>\n",
              "    </tr>\n",
              "    <tr>\n",
              "      <th>49713</th>\n",
              "      <td>2016-07-01</td>\n",
              "      <td>17924.240230</td>\n",
              "      <td>18002.380860</td>\n",
              "      <td>17916.910160</td>\n",
              "      <td>17949.369140</td>\n",
              "      <td>82160000</td>\n",
              "      <td>17949.369140</td>\n",
              "      <td>Venezuela anger food shortages still mounting ...</td>\n",
              "    </tr>\n",
              "    <tr>\n",
              "      <th>49714</th>\n",
              "      <td>2016-07-01</td>\n",
              "      <td>17924.240230</td>\n",
              "      <td>18002.380860</td>\n",
              "      <td>17916.910160</td>\n",
              "      <td>17949.369140</td>\n",
              "      <td>82160000</td>\n",
              "      <td>17949.369140</td>\n",
              "      <td>A Hindu temple worker killed three men motorcy...</td>\n",
              "    </tr>\n",
              "    <tr>\n",
              "      <th>49715</th>\n",
              "      <td>2016-07-01</td>\n",
              "      <td>17924.240230</td>\n",
              "      <td>18002.380860</td>\n",
              "      <td>17916.910160</td>\n",
              "      <td>17949.369140</td>\n",
              "      <td>82160000</td>\n",
              "      <td>17949.369140</td>\n",
              "      <td>Ozone layer hole seems healing  US amp UK team...</td>\n",
              "    </tr>\n",
              "    <tr>\n",
              "      <th>49716</th>\n",
              "      <td>2016-07-01</td>\n",
              "      <td>17924.240230</td>\n",
              "      <td>18002.380860</td>\n",
              "      <td>17916.910160</td>\n",
              "      <td>17949.369140</td>\n",
              "      <td>82160000</td>\n",
              "      <td>17949.369140</td>\n",
              "      <td>Taiwanese warship accidentally fires missile t...</td>\n",
              "    </tr>\n",
              "    <tr>\n",
              "      <th>49717</th>\n",
              "      <td>2016-07-01</td>\n",
              "      <td>17924.240230</td>\n",
              "      <td>18002.380860</td>\n",
              "      <td>17916.910160</td>\n",
              "      <td>17949.369140</td>\n",
              "      <td>82160000</td>\n",
              "      <td>17949.369140</td>\n",
              "      <td>A 117yearold woman Mexico City finally receive...</td>\n",
              "    </tr>\n",
              "  </tbody>\n",
              "</table>\n",
              "<p>37797 rows × 8 columns</p>\n",
              "</div>\n",
              "      <button class=\"colab-df-convert\" onclick=\"convertToInteractive('df-20f2d41a-afd0-4f01-a399-d0e28b5645fa')\"\n",
              "              title=\"Convert this dataframe to an interactive table.\"\n",
              "              style=\"display:none;\">\n",
              "        \n",
              "  <svg xmlns=\"http://www.w3.org/2000/svg\" height=\"24px\"viewBox=\"0 0 24 24\"\n",
              "       width=\"24px\">\n",
              "    <path d=\"M0 0h24v24H0V0z\" fill=\"none\"/>\n",
              "    <path d=\"M18.56 5.44l.94 2.06.94-2.06 2.06-.94-2.06-.94-.94-2.06-.94 2.06-2.06.94zm-11 1L8.5 8.5l.94-2.06 2.06-.94-2.06-.94L8.5 2.5l-.94 2.06-2.06.94zm10 10l.94 2.06.94-2.06 2.06-.94-2.06-.94-.94-2.06-.94 2.06-2.06.94z\"/><path d=\"M17.41 7.96l-1.37-1.37c-.4-.4-.92-.59-1.43-.59-.52 0-1.04.2-1.43.59L10.3 9.45l-7.72 7.72c-.78.78-.78 2.05 0 2.83L4 21.41c.39.39.9.59 1.41.59.51 0 1.02-.2 1.41-.59l7.78-7.78 2.81-2.81c.8-.78.8-2.07 0-2.86zM5.41 20L4 18.59l7.72-7.72 1.47 1.35L5.41 20z\"/>\n",
              "  </svg>\n",
              "      </button>\n",
              "      \n",
              "  <style>\n",
              "    .colab-df-container {\n",
              "      display:flex;\n",
              "      flex-wrap:wrap;\n",
              "      gap: 12px;\n",
              "    }\n",
              "\n",
              "    .colab-df-convert {\n",
              "      background-color: #E8F0FE;\n",
              "      border: none;\n",
              "      border-radius: 50%;\n",
              "      cursor: pointer;\n",
              "      display: none;\n",
              "      fill: #1967D2;\n",
              "      height: 32px;\n",
              "      padding: 0 0 0 0;\n",
              "      width: 32px;\n",
              "    }\n",
              "\n",
              "    .colab-df-convert:hover {\n",
              "      background-color: #E2EBFA;\n",
              "      box-shadow: 0px 1px 2px rgba(60, 64, 67, 0.3), 0px 1px 3px 1px rgba(60, 64, 67, 0.15);\n",
              "      fill: #174EA6;\n",
              "    }\n",
              "\n",
              "    [theme=dark] .colab-df-convert {\n",
              "      background-color: #3B4455;\n",
              "      fill: #D2E3FC;\n",
              "    }\n",
              "\n",
              "    [theme=dark] .colab-df-convert:hover {\n",
              "      background-color: #434B5C;\n",
              "      box-shadow: 0px 1px 3px 1px rgba(0, 0, 0, 0.15);\n",
              "      filter: drop-shadow(0px 1px 2px rgba(0, 0, 0, 0.3));\n",
              "      fill: #FFFFFF;\n",
              "    }\n",
              "  </style>\n",
              "\n",
              "      <script>\n",
              "        const buttonEl =\n",
              "          document.querySelector('#df-20f2d41a-afd0-4f01-a399-d0e28b5645fa button.colab-df-convert');\n",
              "        buttonEl.style.display =\n",
              "          google.colab.kernel.accessAllowed ? 'block' : 'none';\n",
              "\n",
              "        async function convertToInteractive(key) {\n",
              "          const element = document.querySelector('#df-20f2d41a-afd0-4f01-a399-d0e28b5645fa');\n",
              "          const dataTable =\n",
              "            await google.colab.kernel.invokeFunction('convertToInteractive',\n",
              "                                                     [key], {});\n",
              "          if (!dataTable) return;\n",
              "\n",
              "          const docLinkHtml = 'Like what you see? Visit the ' +\n",
              "            '<a target=\"_blank\" href=https://colab.research.google.com/notebooks/data_table.ipynb>data table notebook</a>'\n",
              "            + ' to learn more about interactive tables.';\n",
              "          element.innerHTML = '';\n",
              "          dataTable['output_type'] = 'display_data';\n",
              "          await google.colab.output.renderOutput(dataTable, element);\n",
              "          const docLink = document.createElement('div');\n",
              "          docLink.innerHTML = docLinkHtml;\n",
              "          element.appendChild(docLink);\n",
              "        }\n",
              "      </script>\n",
              "    </div>\n",
              "  </div>\n",
              "  "
            ]
          },
          "metadata": {},
          "execution_count": 51
        }
      ]
    },
    {
      "cell_type": "code",
      "source": [
        "# !pip install spellchecker"
      ],
      "metadata": {
        "id": "qg-L49Csvnbr"
      },
      "execution_count": 52,
      "outputs": []
    },
    {
      "cell_type": "code",
      "source": [
        "# from spellchecker import SpellChecker\n",
        "\n",
        "# # create a SpellChecker instance\n",
        "# spell = SpellChecker()\n",
        "\n",
        "# # example list of words with spelling mistakes\n",
        "# words = ['dictionery', 'mispeled', 'accidantally', 'relevant', 'categry', 'wich']\n",
        "\n",
        "# # find the misspelled words\n",
        "# misspelled = spell.unknown(words)\n",
        "\n",
        "# print(misspelled)\n"
      ],
      "metadata": {
        "id": "hNdI9d9suUe5"
      },
      "execution_count": 53,
      "outputs": []
    },
    {
      "cell_type": "markdown",
      "source": [
        "**Removing URL and Emails if any**"
      ],
      "metadata": {
        "id": "Pco01n5EjD8A"
      }
    },
    {
      "cell_type": "code",
      "source": [
        "url_regex = r'http\\S+|www.\\S+'\n",
        "email_regex = r'\\S+@\\S+'\n",
        "\n",
        "# remove URLs and email addresses from text column using regular expressions\n",
        "merged_df['News'] = merged_df['News'].str.replace(url_regex, '', regex=True)\n",
        "merged_df['News'] = merged_df['News'].str.replace(email_regex, '', regex=True)"
      ],
      "metadata": {
        "colab": {
          "base_uri": "https://localhost:8080/"
        },
        "id": "IzjqXcX2vk0n",
        "outputId": "01843f9b-f925-4c1f-ae09-c3d36de92322"
      },
      "execution_count": 54,
      "outputs": [
        {
          "output_type": "stream",
          "name": "stderr",
          "text": [
            "<ipython-input-54-1886b4e88c23>:5: SettingWithCopyWarning: \n",
            "A value is trying to be set on a copy of a slice from a DataFrame.\n",
            "Try using .loc[row_indexer,col_indexer] = value instead\n",
            "\n",
            "See the caveats in the documentation: https://pandas.pydata.org/pandas-docs/stable/user_guide/indexing.html#returning-a-view-versus-a-copy\n",
            "  merged_df['News'] = merged_df['News'].str.replace(url_regex, '', regex=True)\n",
            "<ipython-input-54-1886b4e88c23>:6: SettingWithCopyWarning: \n",
            "A value is trying to be set on a copy of a slice from a DataFrame.\n",
            "Try using .loc[row_indexer,col_indexer] = value instead\n",
            "\n",
            "See the caveats in the documentation: https://pandas.pydata.org/pandas-docs/stable/user_guide/indexing.html#returning-a-view-versus-a-copy\n",
            "  merged_df['News'] = merged_df['News'].str.replace(email_regex, '', regex=True)\n"
          ]
        }
      ]
    },
    {
      "cell_type": "markdown",
      "source": [
        "**Removing spaces**"
      ],
      "metadata": {
        "id": "CZp69yrajPER"
      }
    },
    {
      "cell_type": "code",
      "source": [
        "merged_df['News'] = merged_df['News'].str.strip()"
      ],
      "metadata": {
        "colab": {
          "base_uri": "https://localhost:8080/"
        },
        "id": "T02BZ9iy9dK8",
        "outputId": "bb92dcde-ff75-4499-ec2a-462dd59df7b0"
      },
      "execution_count": 55,
      "outputs": [
        {
          "output_type": "stream",
          "name": "stderr",
          "text": [
            "<ipython-input-55-411a4910ec80>:1: SettingWithCopyWarning: \n",
            "A value is trying to be set on a copy of a slice from a DataFrame.\n",
            "Try using .loc[row_indexer,col_indexer] = value instead\n",
            "\n",
            "See the caveats in the documentation: https://pandas.pydata.org/pandas-docs/stable/user_guide/indexing.html#returning-a-view-versus-a-copy\n",
            "  merged_df['News'] = merged_df['News'].str.strip()\n"
          ]
        }
      ]
    },
    {
      "cell_type": "markdown",
      "source": [
        "## **Sentiment Calculator**"
      ],
      "metadata": {
        "id": "XskQEo5MjbqN"
      }
    },
    {
      "cell_type": "code",
      "source": [
        "from textblob import TextBlob\n",
        "\n",
        "# define a function to calculate sentiment polarity\n",
        "def calculate_sentiment(text):\n",
        "    blob = TextBlob(text)\n",
        "    return blob.sentiment.polarity\n",
        "\n",
        "# apply the function to a pandas text column\n",
        "merged_df['sentiment_polarity'] = merged_df['News'].apply(calculate_sentiment)"
      ],
      "metadata": {
        "colab": {
          "base_uri": "https://localhost:8080/"
        },
        "id": "RAcgjGs5-iva",
        "outputId": "e28938fa-c985-4ae2-c2b0-d6056bfe4ce8"
      },
      "execution_count": 57,
      "outputs": [
        {
          "output_type": "stream",
          "name": "stderr",
          "text": [
            "<ipython-input-57-cabaa736c9ae>:9: SettingWithCopyWarning: \n",
            "A value is trying to be set on a copy of a slice from a DataFrame.\n",
            "Try using .loc[row_indexer,col_indexer] = value instead\n",
            "\n",
            "See the caveats in the documentation: https://pandas.pydata.org/pandas-docs/stable/user_guide/indexing.html#returning-a-view-versus-a-copy\n",
            "  merged_df['sentiment_polarity'] = merged_df['News'].apply(calculate_sentiment)\n"
          ]
        }
      ]
    },
    {
      "cell_type": "code",
      "source": [
        "# !pip install vaderSentiment"
      ],
      "metadata": {
        "id": "2er4np3G-ykf"
      },
      "execution_count": 58,
      "outputs": []
    },
    {
      "cell_type": "code",
      "source": [
        "from vaderSentiment.vaderSentiment import SentimentIntensityAnalyzer\n",
        "\n",
        "# initialize the sentiment analyzer\n",
        "analyzer = SentimentIntensityAnalyzer()\n",
        "\n",
        "# define a function to calculate sentiment scores\n",
        "def calculate_sentiment(text):\n",
        "    scores = analyzer.polarity_scores(text)\n",
        "    return scores['compound']\n",
        "\n",
        "# apply the function to a pandas text column\n",
        "merged_df['sentiment_polarity2'] = merged_df['News'].apply(calculate_sentiment)\n"
      ],
      "metadata": {
        "colab": {
          "base_uri": "https://localhost:8080/"
        },
        "id": "AK16kM4j-ssy",
        "outputId": "184da80a-3315-4ead-b1f6-eca44d571c55"
      },
      "execution_count": 59,
      "outputs": [
        {
          "output_type": "stream",
          "name": "stderr",
          "text": [
            "<ipython-input-59-a1f4aa6523b8>:12: SettingWithCopyWarning: \n",
            "A value is trying to be set on a copy of a slice from a DataFrame.\n",
            "Try using .loc[row_indexer,col_indexer] = value instead\n",
            "\n",
            "See the caveats in the documentation: https://pandas.pydata.org/pandas-docs/stable/user_guide/indexing.html#returning-a-view-versus-a-copy\n",
            "  merged_df['sentiment_polarity2'] = merged_df['News'].apply(calculate_sentiment)\n"
          ]
        }
      ]
    },
    {
      "cell_type": "markdown",
      "source": [
        "## **Modelling**"
      ],
      "metadata": {
        "id": "o5LWLdHtjkog"
      }
    },
    {
      "cell_type": "markdown",
      "source": [
        "There is a general belief that stock prices are influenced by historical prices and trends, as well as other factors such as news, events, and economic indicators. LSTM models, with their ability to capture sequential patterns and long-term dependencies, are well-suited for modeling time-series data like stock prices.\n",
        "\n",
        "By training on historical stock price data and incorporating additional features such as sentiment analysis of news related to the company, an LSTM model may be able to learn patterns and relationships that can help predict future stock prices. However, it is important to note that stock price prediction is a complex and uncertain task, and even the best models may not always be accurate."
      ],
      "metadata": {
        "id": "SR2dAqnF7xt3"
      }
    },
    {
      "cell_type": "code",
      "source": [
        "import pandas as pd\n",
        "import numpy as np\n",
        "from keras.models import Sequential\n",
        "from keras.layers import LSTM, Dense, Dropout\n",
        "from sklearn.preprocessing import MinMaxScaler\n",
        "from sklearn.metrics import mean_squared_error\n"
      ],
      "metadata": {
        "id": "uXGmxh1TAzuz"
      },
      "execution_count": 60,
      "outputs": []
    },
    {
      "cell_type": "markdown",
      "source": [
        "## **Model 1 : With Sentiment parameters**"
      ],
      "metadata": {
        "id": "Cw-5tjuOLhgT"
      }
    },
    {
      "cell_type": "code",
      "source": [
        "df = merged_df[['Open', 'High', 'Low', 'Close', 'Volume', 'Adj Close', 'sentiment_polarity']]\n",
        "scaler = MinMaxScaler(feature_range=(0, 1))\n",
        "scaled_df = scaler.fit_transform(df)\n",
        "\n",
        "# Split into training and testing data\n",
        "train_size = int(len(scaled_df) * 0.7)\n",
        "test_size = len(scaled_df) - train_size\n",
        "train_data = scaled_df[0:train_size, :]\n",
        "test_data = scaled_df[train_size:len(scaled_df), :]\n",
        "\n",
        "# Define function to create input/output sequences for LSTM model\n",
        "def create_dataset(dataset, lookback=1):\n",
        "    X, Y = [], []\n",
        "    for i in range(len(dataset) - lookback - 1):\n",
        "        a = dataset[i:(i + lookback), :]\n",
        "        X.append(a)\n",
        "        Y.append(dataset[i + lookback, 0])\n",
        "    return np.array(X), np.array(Y)\n",
        "\n",
        "lookback = 60\n",
        "X_train, Y_train = create_dataset(train_data, lookback)\n",
        "X_test, Y_test = create_dataset(test_data, lookback)\n",
        "\n",
        "\n",
        "\n",
        "# Define LSTM model\n",
        "model = Sequential()\n",
        "model.add(LSTM(256, input_shape=(lookback, 7)))\n",
        "model.add(Dropout(0.2))\n",
        "model.add(Dense(1))\n",
        "model.compile(loss='mean_squared_error', optimizer='adam')\n",
        "\n",
        "# Train LSTM model\n",
        "model.fit(X_train, Y_train, epochs=10, batch_size=16, verbose=2)\n",
        "\n",
        "# Test LSTM model\n",
        "train_predict = model.predict(X_train)\n",
        "test_predict = model.predict(X_test)\n",
        "\n",
        "Y_train=Y_train.reshape(-1,1)\n",
        "Y_test=Y_test.reshape(-1,1)\n",
        "\n",
        "\n",
        "from sklearn.metrics import mean_squared_error\n",
        "\n",
        "# Assuming Y_pred and Y_true are two columns with shape (26396, 1)\n",
        "mse = mean_squared_error(Y_train, train_predict)\n",
        "rms = np.sqrt(mse)\n",
        "\n",
        "print(\"RMS value test:\", rms)\n",
        "\n",
        "\n",
        "from sklearn.metrics import mean_squared_error\n",
        "\n",
        "# Assuming Y_pred and Y_true are two columns with shape (26396, 1)\n",
        "mse = mean_squared_error(test_predict, Y_test)\n",
        "rms = np.sqrt(mse)\n",
        "print(\"RMS value test:\", rms)"
      ],
      "metadata": {
        "colab": {
          "base_uri": "https://localhost:8080/"
        },
        "id": "Qww3jaiwGKBl",
        "outputId": "377a04e8-63af-41fd-8d49-c632212358e9"
      },
      "execution_count": 61,
      "outputs": [
        {
          "output_type": "stream",
          "name": "stdout",
          "text": [
            "Epoch 1/10\n",
            "1650/1650 - 258s - loss: 8.5479e-04 - 258s/epoch - 156ms/step\n",
            "Epoch 2/10\n",
            "1650/1650 - 245s - loss: 3.7243e-04 - 245s/epoch - 149ms/step\n",
            "Epoch 3/10\n",
            "1650/1650 - 255s - loss: 2.9010e-04 - 255s/epoch - 155ms/step\n",
            "Epoch 4/10\n",
            "1650/1650 - 250s - loss: 2.3658e-04 - 250s/epoch - 152ms/step\n",
            "Epoch 5/10\n",
            "1650/1650 - 258s - loss: 1.9529e-04 - 258s/epoch - 157ms/step\n",
            "Epoch 6/10\n",
            "1650/1650 - 245s - loss: 1.6404e-04 - 245s/epoch - 149ms/step\n",
            "Epoch 7/10\n",
            "1650/1650 - 242s - loss: 1.3959e-04 - 242s/epoch - 147ms/step\n",
            "Epoch 8/10\n",
            "1650/1650 - 242s - loss: 1.2901e-04 - 242s/epoch - 147ms/step\n",
            "Epoch 9/10\n",
            "1650/1650 - 243s - loss: 1.2204e-04 - 243s/epoch - 147ms/step\n",
            "Epoch 10/10\n",
            "1650/1650 - 246s - loss: 1.1119e-04 - 246s/epoch - 149ms/step\n",
            "825/825 [==============================] - 56s 68ms/step\n",
            "353/353 [==============================] - 23s 66ms/step\n",
            "RMS value test: 0.010552372891594658\n",
            "RMS value test: 0.01675762830833294\n"
          ]
        }
      ]
    },
    {
      "cell_type": "markdown",
      "source": [
        "## **Model 2 : Without Sentiment parameters**"
      ],
      "metadata": {
        "id": "tk8NptVKL4_J"
      }
    },
    {
      "cell_type": "code",
      "source": [
        "df2 = merged_df[['Open', 'High', 'Low', 'Close', 'Volume', 'Adj Close']]\n",
        "scaler = MinMaxScaler(feature_range=(0, 1))\n",
        "scaled_df = scaler.fit_transform(df2)\n",
        "\n",
        "# Split into training and testing data\n",
        "train_size = int(len(scaled_df) * 0.7)\n",
        "test_size = len(scaled_df) - train_size\n",
        "train_data = scaled_df[0:train_size, :]\n",
        "test_data = scaled_df[train_size:len(scaled_df), :]\n",
        "\n",
        "# Define function to create input/output sequences for LSTM model\n",
        "def create_dataset(dataset, lookback=1):\n",
        "    X, Y = [], []\n",
        "    for i in range(len(dataset) - lookback - 1):\n",
        "        a = dataset[i:(i + lookback), :]\n",
        "        X.append(a)\n",
        "        Y.append(dataset[i + lookback, 0])\n",
        "    return np.array(X), np.array(Y)\n",
        "\n",
        "lookback = 60\n",
        "X_train, Y_train = create_dataset(train_data, lookback)\n",
        "X_test, Y_test = create_dataset(test_data, lookback)\n",
        "\n",
        "\n",
        "\n",
        "# Define LSTM model\n",
        "model = Sequential()\n",
        "model.add(LSTM(256, input_shape=(lookback, 6)))\n",
        "model.add(Dropout(0.2))\n",
        "model.add(Dense(1))\n",
        "model.compile(loss='mean_squared_error', optimizer='adam')\n"
      ],
      "metadata": {
        "id": "ReBavzfnL6gk"
      },
      "execution_count": 66,
      "outputs": []
    },
    {
      "cell_type": "code",
      "source": [
        "# Train LSTM model\n",
        "model.fit(X_train, Y_train, epochs=10, batch_size=16, verbose=2)\n",
        "\n",
        "# Test LSTM model\n",
        "train_predict = model.predict(X_train)\n",
        "test_predict = model.predict(X_test)\n",
        "\n",
        "Y_train=Y_train.reshape(-1,1)\n",
        "Y_test=Y_test.reshape(-1,1)\n",
        "\n",
        "\n",
        "from sklearn.metrics import mean_squared_error\n",
        "\n",
        "# Assuming Y_pred and Y_true are two columns with shape (26396, 1)\n",
        "mse = mean_squared_error(Y_train, train_predict)\n",
        "rms = np.sqrt(mse)\n",
        "\n",
        "print(\"RMS value test:\", rms)\n",
        "\n",
        "\n",
        "from sklearn.metrics import mean_squared_error\n",
        "\n",
        "# Assuming Y_pred and Y_true are two columns with shape (26396, 1)\n",
        "mse = mean_squared_error(test_predict, Y_test)\n",
        "rms = np.sqrt(mse)\n",
        "print(\"RMS value test:\", rms)"
      ],
      "metadata": {
        "colab": {
          "base_uri": "https://localhost:8080/"
        },
        "id": "GRrKLZ0ZW3p0",
        "outputId": "45ffa7f0-f7d5-40cf-d13b-36715b761604"
      },
      "execution_count": 67,
      "outputs": [
        {
          "output_type": "stream",
          "name": "stdout",
          "text": [
            "Epoch 1/10\n",
            "1650/1650 - 273s - loss: 0.0011 - 273s/epoch - 165ms/step\n",
            "Epoch 2/10\n",
            "1650/1650 - 261s - loss: 3.6965e-04 - 261s/epoch - 158ms/step\n",
            "Epoch 3/10\n",
            "1650/1650 - 261s - loss: 2.9464e-04 - 261s/epoch - 158ms/step\n",
            "Epoch 4/10\n",
            "1650/1650 - 262s - loss: 2.3141e-04 - 262s/epoch - 159ms/step\n",
            "Epoch 5/10\n",
            "1650/1650 - 263s - loss: 1.8801e-04 - 263s/epoch - 159ms/step\n",
            "Epoch 6/10\n",
            "1650/1650 - 260s - loss: 1.6222e-04 - 260s/epoch - 157ms/step\n",
            "Epoch 7/10\n",
            "1650/1650 - 261s - loss: 1.4394e-04 - 261s/epoch - 158ms/step\n",
            "Epoch 8/10\n",
            "1650/1650 - 252s - loss: 1.2468e-04 - 252s/epoch - 153ms/step\n",
            "Epoch 9/10\n",
            "1650/1650 - 260s - loss: 1.2120e-04 - 260s/epoch - 158ms/step\n",
            "Epoch 10/10\n",
            "1650/1650 - 265s - loss: 1.1364e-04 - 265s/epoch - 161ms/step\n",
            "825/825 [==============================] - 62s 75ms/step\n",
            "353/353 [==============================] - 27s 77ms/step\n",
            "RMS value test: 0.0063197766947066265\n",
            "RMS value test: 0.01579062033078758\n"
          ]
        }
      ]
    },
    {
      "cell_type": "code",
      "source": [
        "# Invert scaling to get actual prices\n",
        "# train_predict = scaler.inverse_transform(train_predict)\n",
        "# Y_train = scaler.inverse_transform([Y_train])\n",
        "# test_predict = scaler.inverse_transform(test_predict)\n",
        "# Y_test = scaler.inverse_transform([Y_test])\n",
        "\n",
        "# Evaluate LSTM model\n",
        "# train_score = np.sqrt(mean_squared_error(Y_train[0], train_predict[:, 0]))\n",
        "# test_score = np.sqrt(mean_squared_error(Y_test[0], test_predict[:, 0]))\n",
        "# print('Train Score: %.2f RMSE' % train_score)\n",
        "# print('Test Score: %.2f RMSE' % test_score)"
      ],
      "metadata": {
        "id": "Zd_VcNWoIpfG"
      },
      "execution_count": 68,
      "outputs": []
    }
  ]
}